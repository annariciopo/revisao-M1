{
 "cells": [
  {
   "cell_type": "markdown",
   "metadata": {},
   "source": [
    "# Estrutura de Dados\n",
    "\n",
    "## 1. Criando um Array"
   ]
  },
  {
   "cell_type": "code",
   "execution_count": null,
   "metadata": {},
   "outputs": [],
   "source": [
    "const vazio = [];\n",
    "const a = [1, 2, 3, 4, 5];\n",
    "const b = new Array();\n",
    "const c = new Array(5);\n",
    "const d = new Array(1, 2, 3, 4, 5);\n",
    "\n",
    "console.log(` vazio: ${vazio} \\n a: ${a} \\n b: ${b} \\n c: ${c} \\n d: ${d}`);"
   ]
  },
  {
   "cell_type": "markdown",
   "metadata": {},
   "source": [
    "## 2. Lendo e Registrando Elementos com Índice"
   ]
  },
  {
   "cell_type": "code",
   "execution_count": null,
   "metadata": {},
   "outputs": [],
   "source": [
    "let array = [1, 2, 3, 4, 5];\n",
    "\n",
    "console.log(array[1]);"
   ]
  },
  {
   "cell_type": "code",
   "execution_count": null,
   "metadata": {},
   "outputs": [],
   "source": [
    "let array = [\"1\", \"2\", \"3\", \"4\", \"5\"];\n",
    "\n",
    "console.log(array[0]);"
   ]
  },
  {
   "cell_type": "code",
   "execution_count": null,
   "metadata": {},
   "outputs": [],
   "source": [
    "let array = [1, 2, 3, 4, 5];\n",
    "array[5] = 6;\n",
    "\n",
    "console.log(array);"
   ]
  },
  {
   "cell_type": "markdown",
   "metadata": {},
   "source": [
    "## 3. Tamanho do Array"
   ]
  },
  {
   "cell_type": "code",
   "execution_count": null,
   "metadata": {},
   "outputs": [],
   "source": [
    "let array = [1, 2, 3, 4, 5];\n",
    "\n",
    "console.log(array.length)"
   ]
  },
  {
   "cell_type": "code",
   "execution_count": null,
   "metadata": {},
   "outputs": [],
   "source": [
    "console.log(array[5])"
   ]
  },
  {
   "cell_type": "code",
   "execution_count": null,
   "metadata": {},
   "outputs": [],
   "source": [
    "let variavel;\n",
    "\n",
    "console.log(variavel);"
   ]
  },
  {
   "cell_type": "markdown",
   "metadata": {},
   "source": [
    "## 4. Métodos \n",
    "\n",
    "### 4.1. `Pop` e `Push`"
   ]
  },
  {
   "cell_type": "code",
   "execution_count": null,
   "metadata": {},
   "outputs": [],
   "source": [
    "let array = [1, 2, 3, 4, 5];\n",
    "\n",
    "array.pop()\n",
    "console.log(array)"
   ]
  },
  {
   "cell_type": "code",
   "execution_count": null,
   "metadata": {},
   "outputs": [],
   "source": [
    "let array = [1, 2, 3, 4, 5];\n",
    "\n",
    "array.push(1)\n",
    "console.log(array)"
   ]
  },
  {
   "cell_type": "markdown",
   "metadata": {},
   "source": [
    "### 4.2. `Shift` e `Unshift`"
   ]
  },
  {
   "cell_type": "code",
   "execution_count": null,
   "metadata": {},
   "outputs": [],
   "source": [
    "let array = [1, 2, 3, 4, 5];\n",
    "\n",
    "array.shift()\n",
    "console.log(array)"
   ]
  },
  {
   "cell_type": "code",
   "execution_count": null,
   "metadata": {},
   "outputs": [],
   "source": [
    "let array = [1, 2, 3, 4, 5];\n",
    "\n",
    "array.unshift(0)\n",
    "console.log(array)"
   ]
  },
  {
   "cell_type": "markdown",
   "metadata": {},
   "source": [
    "### 4.3. `Splice`"
   ]
  },
  {
   "cell_type": "markdown",
   "metadata": {},
   "source": [
    "`array.splice(1)` -> será retornado 1 elemento do array, inciando pelo índice 0;\n",
    "\n",
    "`array.splice(0, 2)` -> será retornado o array sem 2 elementos a partir do índice 0;\n",
    "\n",
    "`array.splice(1, 2, 7, 8, 9)` -> será retornado o array sem os dois elementos a partir do índice 1, e adicionado 7, 8 e 9 no lugar.\n",
    "\n",
    "#### 4.3.1. Sintaxe\n",
    "\n",
    "`array.slice(i, n?, elemento1?, elemento2?, ...)`\n",
    "\n",
    "Onde:\n",
    "\n",
    "`?`: argumentos opcionais;\n",
    "\n",
    "`i`: índice do elemento em que se inicia a extração. Sozinho, retorna apenas o número de elementos correspondentes;\n",
    "\n",
    "`n`: número de elementos a serem excluídos a partir do índice `i`;\n",
    "\n",
    "`elementoX`:  elementos que serão incluidos no array no lugar daqueles removidos. \n",
    "\n",
    "O NÚMERO DE ELEMENTOS ADICIONADOS **NÃO** PRECISA SER IGUAL AO DE REMOVIDOS!!!"
   ]
  },
  {
   "cell_type": "code",
   "execution_count": null,
   "metadata": {},
   "outputs": [],
   "source": [
    "let array = [1, 2, 3, 4, 5];\n",
    "array.splice(2)\n",
    "\n",
    "console.log(array)"
   ]
  },
  {
   "cell_type": "code",
   "execution_count": null,
   "metadata": {},
   "outputs": [],
   "source": [
    "let array = [1, 2, 3, 4, 5];\n",
    "array.splice(0, 3)\n",
    "\n",
    "console.log(array)"
   ]
  },
  {
   "cell_type": "code",
   "execution_count": null,
   "metadata": {},
   "outputs": [],
   "source": [
    "let array = [1, 2, 3, 4, 5];\n",
    "array.splice(0, 3, 5, 4)\n",
    "\n",
    "console.log(array)"
   ]
  }
 ],
 "metadata": {
  "kernelspec": {
   "display_name": "Deno",
   "language": "typescript",
   "name": "deno"
  },
  "language_info": {
   "codemirror_mode": "typescript",
   "file_extension": ".ts",
   "mimetype": "text/x.typescript",
   "name": "typescript",
   "nbconvert_exporter": "script",
   "pygments_lexer": "typescript",
   "version": "5.7.3"
  }
 },
 "nbformat": 4,
 "nbformat_minor": 2
}
