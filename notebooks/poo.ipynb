{
 "cells": [
  {
   "cell_type": "markdown",
   "metadata": {},
   "source": [
    "# Programação Orientada a Objetos - POO\n",
    "\n",
    "## 1. Classes e Objetos\n"
   ]
  },
  {
   "cell_type": "code",
   "execution_count": null,
   "metadata": {},
   "outputs": [],
   "source": [
    "class Pessoa {\n",
    "  constructor(nome, idade) {\n",
    "    this.nome = nome;\n",
    "    this.idade = idade;\n",
    "  }\n",
    "\n",
    "  apresentar() {\n",
    "    return `Olá, meu nome é ${this.nome} e tenho ${this.idade} anos.`;\n",
    "  }\n",
    "}\n",
    "\n",
    "const pessoa1 = new Pessoa(\"Maria\", 22);\n",
    "console.log(pessoa1.apresentar());\n"
   ]
  },
  {
   "cell_type": "markdown",
   "metadata": {},
   "source": [
    "## 2. Herança\n"
   ]
  },
  {
   "cell_type": "code",
   "execution_count": 11,
   "metadata": {},
   "outputs": [
    {
     "name": "stdout",
     "output_type": "stream",
     "text": [
      "Olá, meu nome é João e tenho 20 anos. Eu estudo Engenharia.\n"
     ]
    }
   ],
   "source": [
    "class Pessoa {\n",
    "  constructor(nome, idade) {\n",
    "    this.nome = nome;\n",
    "    this.idade = idade;\n",
    "  }\n",
    "\n",
    "  apresentar() {\n",
    "    return `Olá, meu nome é ${this.nome} e tenho ${this.idade} anos.`;\n",
    "  }\n",
    "}\n",
    "\n",
    "class Estudante extends Pessoa {\n",
    "  constructor(nome, idade, curso) {\n",
    "    super(nome, idade);\n",
    "    this.curso = curso;\n",
    "  }\n",
    "\n",
    "  apresentar() {\n",
    "    return `${super.apresentar()} Eu estudo ${this.curso}.`;\n",
    "  }\n",
    "}\n",
    "\n",
    "const estudante1 = new Estudante(\"João\", 20, \"Engenharia\");\n",
    "console.log(estudante1.apresentar());\n"
   ]
  },
  {
   "cell_type": "markdown",
   "metadata": {},
   "source": [
    "## 3. Encapsulamento\n"
   ]
  },
  {
   "cell_type": "code",
   "execution_count": 12,
   "metadata": {},
   "outputs": [
    {
     "name": "stdout",
     "output_type": "stream",
     "text": [
      "1200\n"
     ]
    }
   ],
   "source": [
    "class ContaBancaria {\n",
    "  #saldo;\n",
    "\n",
    "  constructor(saldoInicial) {\n",
    "    this.#saldo = saldoInicial;\n",
    "  }\n",
    "\n",
    "  getSaldo() {\n",
    "    return this.#saldo;\n",
    "  }\n",
    "\n",
    "  depositar(valor) {\n",
    "    if (valor > 0) {\n",
    "      this.#saldo += valor;\n",
    "    }\n",
    "  }\n",
    "\n",
    "  sacar(valor) {\n",
    "    if (valor > 0 && valor <= this.#saldo) {\n",
    "      this.#saldo -= valor;\n",
    "    }\n",
    "  }\n",
    "}\n",
    "\n",
    "const conta = new ContaBancaria(1000);\n",
    "conta.depositar(500);\n",
    "conta.sacar(300);\n",
    "console.log(conta.getSaldo());\n"
   ]
  },
  {
   "cell_type": "markdown",
   "metadata": {},
   "source": [
    "## 4. Polimorfismo\n"
   ]
  },
  {
   "cell_type": "code",
   "execution_count": 14,
   "metadata": {},
   "outputs": [
    {
     "name": "stdout",
     "output_type": "stream",
     "text": [
      "Som genérico de animal\n",
      "Latido\n",
      "Miau\n"
     ]
    }
   ],
   "source": [
    "class Animal {\n",
    "  fazerSom() {\n",
    "    console.log(\"Som genérico de animal\");\n",
    "  }\n",
    "}\n",
    "\n",
    "class Cachorro extends Animal {\n",
    "  fazerSom() {\n",
    "    console.log(\"Latido\");\n",
    "  }\n",
    "}\n",
    "\n",
    "class Gato extends Animal {\n",
    "  fazerSom() {\n",
    "    console.log(\"Miau\");\n",
    "  }\n",
    "}\n",
    "\n",
    "const animal = new Animal()\n",
    "animal.fazerSom()\n",
    "\n",
    "const cachorro = new Cachorro()\n",
    "cachorro.fazerSom()\n",
    "\n",
    "const gato = new Gato()\n",
    "gato.fazerSom()"
   ]
  }
 ],
 "metadata": {
  "kernelspec": {
   "display_name": "Deno",
   "language": "typescript",
   "name": "deno"
  },
  "language_info": {
   "codemirror_mode": "typescript",
   "file_extension": ".ts",
   "mimetype": "text/x.typescript",
   "name": "typescript",
   "nbconvert_exporter": "script",
   "pygments_lexer": "typescript",
   "version": "5.7.3"
  }
 },
 "nbformat": 4,
 "nbformat_minor": 2
}
